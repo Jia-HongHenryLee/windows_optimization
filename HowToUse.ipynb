{
 "cells": [
  {
   "cell_type": "code",
   "execution_count": 5,
   "metadata": {},
   "outputs": [],
   "source": [
    "from WindowsOpt import *"
   ]
  },
  {
   "cell_type": "code",
   "execution_count": 6,
   "metadata": {},
   "outputs": [],
   "source": [
    "## configurations\n",
    "\n",
    "# ## For a single-channel WSOlayer\n",
    "# nch_window = 1\n",
    "# act_window = \"sigmoid\"\n",
    "# upbound_window = 255.0\n",
    "# init_windows = \"brain\"\n",
    "\n",
    "## For multi-channel WSOlayer\n",
    "nch_window = 2\n",
    "act_window = \"sigmoid\"\n",
    "upbound_window = 255.0\n",
    "init_windows = \"ich_init\"\n",
    "\n",
    "optimizer = SGD(lr=0.0001, decay=0, momentum=0.9, nesterov=True)\n",
    "input_shape = (512, 512, 1)\n",
    "input_tensor = keras.layers.Input(shape=input_shape, name=\"input\")\n"
   ]
  },
  {
   "cell_type": "code",
   "execution_count": 7,
   "metadata": {},
   "outputs": [
    {
     "name": "stdout",
     "output_type": "stream",
     "text": [
      "WindowOptimze kwargs :  {'kernel_initializer': 'he_normal', 'kernel_regularizer': <keras.regularizers.L1L2 object at 0x7f706465c6d8>}\n"
     ]
    }
   ],
   "source": [
    "#### NOTE\n",
    "## Define a window setting optimization layer\n",
    "x = WindowOptimizer(nch_window=nch_window, act_window=act_window, upbound_window=upbound_window,\n",
    "                    kernel_initializer=\"he_normal\",\n",
    "                    kernel_regularizer=regularizers.l2(0.5 * 1e-5)\n",
    "                    )(input_tensor)\n",
    "\n",
    "## ... add some your layer here\n",
    "x = Conv2D(32, (3, 3), activation=None, padding=\"same\", name=\"conv1\")(x)\n",
    "x = Activation(\"relu\", name=\"conv1_relu\")(x)\n",
    "x = MaxPooling2D((7, 7), strides=(3, 3), name=\"pool1\")(x)\n",
    "x = Conv2D(256, (3, 3), activation=None, padding=\"same\", name=\"conv2\")(x)\n",
    "x = Activation(\"relu\", name=\"conv2_relu\")(x)\n",
    "x = MaxPooling2D((7, 7), strides=(3, 3), name=\"pool2\")(x)\n",
    "x = GlobalAveragePooling2D(name=\"gap\")(x)\n",
    "outputs = Dense(1, activation='sigmoid')(x)\n",
    "\n",
    "model = Model(inputs=input_tensor, outputs=outputs, name=\"main_model\")\n"
   ]
  },
  {
   "cell_type": "code",
   "execution_count": 8,
   "metadata": {},
   "outputs": [],
   "source": [
    "\n",
    "#### NOTE\n",
    "## Initialize parameters of window setting opt module\n",
    "model = initialize_window_setting(model, act_window=act_window, init_windows=init_windows, upbound_window=upbound_window)\n"
   ]
  },
  {
   "cell_type": "code",
   "execution_count": 9,
   "metadata": {},
   "outputs": [
    {
     "name": "stdout",
     "output_type": "stream",
     "text": [
      "_________________________________________________________________\n",
      "Layer (type)                 Output Shape              Param #   \n",
      "=================================================================\n",
      "input (InputLayer)           (None, 512, 512, 1)       0         \n",
      "_________________________________________________________________\n",
      "window_conv (Conv2D)         (None, 512, 512, 2)       4         \n",
      "_________________________________________________________________\n",
      "window_act (Activation)      (None, 512, 512, 2)       0         \n",
      "_________________________________________________________________\n",
      "conv1 (Conv2D)               (None, 512, 512, 32)      608       \n",
      "_________________________________________________________________\n",
      "conv1_relu (Activation)      (None, 512, 512, 32)      0         \n",
      "_________________________________________________________________\n",
      "pool1 (MaxPooling2D)         (None, 169, 169, 32)      0         \n",
      "_________________________________________________________________\n",
      "conv2 (Conv2D)               (None, 169, 169, 256)     73984     \n",
      "_________________________________________________________________\n",
      "conv2_relu (Activation)      (None, 169, 169, 256)     0         \n",
      "_________________________________________________________________\n",
      "pool2 (MaxPooling2D)         (None, 55, 55, 256)       0         \n",
      "_________________________________________________________________\n",
      "gap (GlobalAveragePooling2D) (None, 256)               0         \n",
      "_________________________________________________________________\n",
      "dense_2 (Dense)              (None, 1)                 257       \n",
      "=================================================================\n",
      "Total params: 74,853\n",
      "Trainable params: 74,853\n",
      "Non-trainable params: 0\n",
      "_________________________________________________________________\n",
      "window optimization modeul set up (initialized with ich_init settings)\n",
      "(WL, WW)=['brain', 'subdural']\n",
      "Loaded parameter : w=[0.11074668 0.08518976] b=[-5.5373344 -4.259488 ]\n",
      "Expected paramter(brain) : w=[0.11074668] b=[-5.5373344]\n",
      "Expected paramter(subdural) : w=[0.08518976] b=[-4.259488]\n"
     ]
    }
   ],
   "source": [
    "\n",
    "model.compile(optimizer=optimizer, loss='binary_crossentropy', metrics=[\"accuracy\"])\n",
    "model.summary()\n",
    "\n",
    "## Double check initialized parameters for WSO\n",
    "names = [weight.name for layer in model.layers for weight in layer.weights]\n",
    "# print(names)\n",
    "weights = model.get_weights()\n",
    "\n",
    "for name, weight in zip(names, weights):\n",
    "    if \"window_conv\" in name:\n",
    "        if \"kernel:0\" in name:\n",
    "            ws = weight\n",
    "        if \"bias:0\" in name:\n",
    "            bs = weight\n",
    "\n",
    "print(\"window optimization modeul set up (initialized with {} settings)\".format(init_windows))\n",
    "print(\"(WL, WW)={}\".format(dict_window_settings[init_windows]))\n",
    "print(\"Loaded parameter : w={} b={}\".format(ws[0, 0, 0, :], bs)) # check result\n",
    "print(\"Expected paramter(brain) : w=[0.11074668] b=[-5.5373344]\")\n",
    "print(\"Expected paramter(subdural) : w=[0.08518976] b=[-4.259488]\")\n"
   ]
  },
  {
   "cell_type": "code",
   "execution_count": null,
   "metadata": {},
   "outputs": [],
   "source": []
  }
 ],
 "metadata": {
  "kernelspec": {
   "display_name": "Python 3",
   "language": "python",
   "name": "python3"
  },
  "language_info": {
   "codemirror_mode": {
    "name": "ipython",
    "version": 3
   },
   "file_extension": ".py",
   "mimetype": "text/x-python",
   "name": "python",
   "nbconvert_exporter": "python",
   "pygments_lexer": "ipython3",
   "version": "3.6.7"
  }
 },
 "nbformat": 4,
 "nbformat_minor": 2
}
